{
 "cells": [
  {
   "cell_type": "markdown",
   "metadata": {},
   "source": [
    "# Keras Tutorial"
   ]
  },
  {
   "cell_type": "markdown",
   "metadata": {},
   "source": [
    "Keras is a popular deep learning framework and it's easy to get started."
   ]
  },
  {
   "cell_type": "code",
   "execution_count": 1,
   "metadata": {},
   "outputs": [
    {
     "name": "stderr",
     "output_type": "stream",
     "text": [
      "Using TensorFlow backend.\n"
     ]
    }
   ],
   "source": [
    "import keras\n",
    "from keras.datasets import mnist\n",
    "from keras.models import Sequential\n",
    "from keras.layers import Dense, Dropout, Flatten, Conv2D, MaxPooling2D\n",
    "\n",
    "BATCH_SIZE = 128\n",
    "NUM_CLASSES = 10\n",
    "NUM_EPOCHS = 10"
   ]
  },
  {
   "cell_type": "markdown",
   "metadata": {},
   "source": [
    "First, we read the mnist data and preprocess them."
   ]
  },
  {
   "cell_type": "code",
   "execution_count": 2,
   "metadata": {
    "collapsed": true
   },
   "outputs": [],
   "source": [
    "# download and load the data (split them between train and test sets)\n",
    "(x_train, y_train), (x_test, y_test) = mnist.load_data()\n",
    "\n",
    "# expand the channel dimension\n",
    "x_train = x_train.reshape(x_train.shape[0], 28, 28, 1)\n",
    "x_test = x_test.reshape(x_test.shape[0], 28, 28, 1)\n",
    "input_shape = (28, 28, 1)\n",
    "\n",
    "# make the value of pixels from [0, 255] to [0, 1] for further process\n",
    "x_train = x_train.astype('float32') / 255.\n",
    "x_test = x_test.astype('float32') / 255.\n",
    "\n",
    "# convert class vectors to binary class matrics\n",
    "y_train = keras.utils.to_categorical(y_train, NUM_CLASSES)\n",
    "y_test = keras.utils.to_categorical(y_test, NUM_CLASSES)"
   ]
  },
  {
   "cell_type": "markdown",
   "metadata": {},
   "source": [
    "Then, we define the model, object function and optimizer that we use to classify."
   ]
  },
  {
   "cell_type": "code",
   "execution_count": 3,
   "metadata": {
    "collapsed": true
   },
   "outputs": [],
   "source": [
    "# define the model\n",
    "model = Sequential()\n",
    "model.add(Conv2D(32, (5, 5), input_shape=input_shape, activation='relu'))\n",
    "model.add(MaxPooling2D(pool_size=(2, 2)))\n",
    "model.add(Dropout(0.2))\n",
    "model.add(Flatten())\n",
    "model.add(Dense(128, activation='relu'))\n",
    "model.add(Dense(NUM_CLASSES, activation='softmax'))\n",
    "\n",
    "# define the object function, optimizer and metrics\n",
    "model.compile(loss='categorical_crossentropy', optimizer='adam', metrics=['accuracy'])\n"
   ]
  },
  {
   "cell_type": "markdown",
   "metadata": {},
   "source": [
    "Next, we can start to train and evaluate!"
   ]
  },
  {
   "cell_type": "code",
   "execution_count": 4,
   "metadata": {},
   "outputs": [
    {
     "name": "stdout",
     "output_type": "stream",
     "text": [
      "Train on 60000 samples, validate on 10000 samples\n",
      "Epoch 1/10\n",
      " - 28s - loss: 0.2095 - acc: 0.9384 - val_loss: 0.0690 - val_acc: 0.9779\n",
      "Epoch 2/10\n",
      " - 29s - loss: 0.0671 - acc: 0.9796 - val_loss: 0.0495 - val_acc: 0.9829\n",
      "Epoch 3/10\n",
      " - 29s - loss: 0.0474 - acc: 0.9851 - val_loss: 0.0413 - val_acc: 0.9864\n",
      "Epoch 4/10\n",
      " - 28s - loss: 0.0361 - acc: 0.9884 - val_loss: 0.0406 - val_acc: 0.9858\n",
      "Epoch 5/10\n",
      " - 28s - loss: 0.0289 - acc: 0.9908 - val_loss: 0.0369 - val_acc: 0.9880\n",
      "Epoch 6/10\n",
      " - 28s - loss: 0.0235 - acc: 0.9923 - val_loss: 0.0358 - val_acc: 0.9886\n",
      "Epoch 7/10\n",
      " - 30s - loss: 0.0189 - acc: 0.9940 - val_loss: 0.0363 - val_acc: 0.9884\n",
      "Epoch 8/10\n",
      " - 29s - loss: 0.0170 - acc: 0.9942 - val_loss: 0.0357 - val_acc: 0.9886\n",
      "Epoch 9/10\n",
      " - 29s - loss: 0.0132 - acc: 0.9957 - val_loss: 0.0315 - val_acc: 0.9905\n",
      "Epoch 10/10\n",
      " - 29s - loss: 0.0123 - acc: 0.9959 - val_loss: 0.0323 - val_acc: 0.9904\n",
      "Training loss: 0.0046, Training accuracy: 99.88%\n",
      "Testing loss: 0.0046, Testing accuracy: 99.04%\n"
     ]
    }
   ],
   "source": [
    "# train\n",
    "model.fit(x_train, y_train, validation_data=(x_test, y_test), epochs=NUM_EPOCHS, batch_size=BATCH_SIZE, verbose=2)\n",
    "\n",
    "# evaluate\n",
    "score_train = model.evaluate(x_train, y_train, verbose=0)\n",
    " \n",
    "print('Training loss: %.4f, Training accuracy: %.2f%%' % (score_train[0],score_train[1]*100))\n",
    "score_test = model.evaluate(x_test, y_test, verbose=0)\n",
    "print('Testing loss: %.4f, Testing accuracy: %.2f%%' % (score_train[0],score_test[1]*100))\n"
   ]
  },
  {
   "cell_type": "markdown",
   "metadata": {},
   "source": [
    "#### Q6:\n",
    "Please print the training and testing accuracy."
   ]
  }
 ],
 "metadata": {
  "kernelspec": {
   "display_name": "Python 3",
   "language": "python",
   "name": "python3"
  },
  "language_info": {
   "codemirror_mode": {
    "name": "ipython",
    "version": 3
   },
   "file_extension": ".py",
   "mimetype": "text/x-python",
   "name": "python",
   "nbconvert_exporter": "python",
   "pygments_lexer": "ipython3",
   "version": "3.5.4"
  }
 },
 "nbformat": 4,
 "nbformat_minor": 2
}
